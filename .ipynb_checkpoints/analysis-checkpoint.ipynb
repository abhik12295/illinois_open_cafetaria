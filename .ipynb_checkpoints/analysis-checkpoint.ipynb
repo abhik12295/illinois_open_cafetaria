{
 "cells": [
  {
   "cell_type": "code",
   "execution_count": 1,
   "id": "following-maple",
   "metadata": {},
   "outputs": [
    {
     "name": "stdout",
     "output_type": "stream",
     "text": [
      "Libraries imported.\n"
     ]
    }
   ],
   "source": [
    "import numpy as np\n",
    "import pandas as pd\n",
    "import requests\n",
    "from bs4 import BeautifulSoup\n",
    "\n",
    "import geocoder\n",
    "import json # library to handle JSON files\n",
    "\n",
    "from geopy.geocoders import Nominatim # convert an address into latitude and longitude values\n",
    "\n",
    "import requests # library to handle requests\n",
    "from pandas import json_normalize # tranform JSON file into a pandas dataframe\n",
    "\n",
    "# Matplotlib and associated plotting modules\n",
    "import matplotlib.cm as cm\n",
    "import matplotlib.colors as colors\n",
    "\n",
    "# import k-means from clustering stage\n",
    "from sklearn.cluster import KMeans\n",
    "\n",
    "import folium # map rendering library\n",
    "print('Libraries imported.')"
   ]
  },
  {
   "cell_type": "markdown",
   "id": "supreme-dodge",
   "metadata": {},
   "source": [
    "### Getting Illinois map location from csv file"
   ]
  },
  {
   "cell_type": "code",
   "execution_count": 3,
   "id": "amended-armstrong",
   "metadata": {},
   "outputs": [],
   "source": [
    "il_data = pd.read_csv('dataset/illinois.csv')"
   ]
  },
  {
   "cell_type": "code",
   "execution_count": 4,
   "id": "elegant-indication",
   "metadata": {},
   "outputs": [
    {
     "data": {
      "text/html": [
       "<div>\n",
       "<style scoped>\n",
       "    .dataframe tbody tr th:only-of-type {\n",
       "        vertical-align: middle;\n",
       "    }\n",
       "\n",
       "    .dataframe tbody tr th {\n",
       "        vertical-align: top;\n",
       "    }\n",
       "\n",
       "    .dataframe thead th {\n",
       "        text-align: right;\n",
       "    }\n",
       "</style>\n",
       "<table border=\"1\" class=\"dataframe\">\n",
       "  <thead>\n",
       "    <tr style=\"text-align: right;\">\n",
       "      <th></th>\n",
       "      <th>Suburbs</th>\n",
       "      <th>Latitude</th>\n",
       "      <th>Longitude</th>\n",
       "    </tr>\n",
       "  </thead>\n",
       "  <tbody>\n",
       "    <tr>\n",
       "      <th>0</th>\n",
       "      <td>Addison</td>\n",
       "      <td>41.93407</td>\n",
       "      <td>-87.99350</td>\n",
       "    </tr>\n",
       "    <tr>\n",
       "      <th>1</th>\n",
       "      <td>Algonquin</td>\n",
       "      <td>42.16439</td>\n",
       "      <td>-88.32686</td>\n",
       "    </tr>\n",
       "    <tr>\n",
       "      <th>2</th>\n",
       "      <td>Antioch</td>\n",
       "      <td>42.47898</td>\n",
       "      <td>-88.09638</td>\n",
       "    </tr>\n",
       "    <tr>\n",
       "      <th>3</th>\n",
       "      <td>Arlington Heights</td>\n",
       "      <td>42.08729</td>\n",
       "      <td>-87.98044</td>\n",
       "    </tr>\n",
       "    <tr>\n",
       "      <th>4</th>\n",
       "      <td>Aurora</td>\n",
       "      <td>41.75710</td>\n",
       "      <td>-88.31613</td>\n",
       "    </tr>\n",
       "  </tbody>\n",
       "</table>\n",
       "</div>"
      ],
      "text/plain": [
       "             Suburbs  Latitude  Longitude\n",
       "0            Addison  41.93407  -87.99350\n",
       "1          Algonquin  42.16439  -88.32686\n",
       "2            Antioch  42.47898  -88.09638\n",
       "3  Arlington Heights  42.08729  -87.98044\n",
       "4             Aurora  41.75710  -88.31613"
      ]
     },
     "execution_count": 4,
     "metadata": {},
     "output_type": "execute_result"
    }
   ],
   "source": [
    "il_data.head()"
   ]
  },
  {
   "cell_type": "code",
   "execution_count": 8,
   "id": "surprising-determination",
   "metadata": {},
   "outputs": [
    {
     "name": "stdout",
     "output_type": "stream",
     "text": [
      "The geograpical coordinate of Chicago Ridge, Illinois are 41.7014217, -87.7792196.\n"
     ]
    }
   ],
   "source": [
    "address = 'Chicago Ridge, Illinois'\n",
    "#geopy\n",
    "#User_Agent is an http request header that is sent with each request.\n",
    "geolocator = Nominatim(user_agent=\"chicago_explorer\")\n",
    "location = geolocator.geocode(address)\n",
    "latitude = location.latitude\n",
    "longitude = location.longitude\n",
    "print('The geograpical coordinate of {} are {}, {}.'.format(address,latitude, longitude))"
   ]
  },
  {
   "cell_type": "code",
   "execution_count": null,
   "id": "earned-rebecca",
   "metadata": {},
   "outputs": [],
   "source": []
  }
 ],
 "metadata": {
  "kernelspec": {
   "display_name": "Python 3",
   "language": "python",
   "name": "python3"
  },
  "language_info": {
   "codemirror_mode": {
    "name": "ipython",
    "version": 3
   },
   "file_extension": ".py",
   "mimetype": "text/x-python",
   "name": "python",
   "nbconvert_exporter": "python",
   "pygments_lexer": "ipython3",
   "version": "3.9.1"
  }
 },
 "nbformat": 4,
 "nbformat_minor": 5
}
