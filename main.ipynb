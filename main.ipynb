{
 "cells": [
  {
   "cell_type": "code",
   "execution_count": 1,
   "id": "optional-omega",
   "metadata": {},
   "outputs": [
    {
     "name": "stdout",
     "output_type": "stream",
     "text": [
      "Libraries imported.\n"
     ]
    }
   ],
   "source": [
    "import numpy as np\n",
    "import pandas as pd\n",
    "import requests\n",
    "from bs4 import BeautifulSoup\n",
    "\n",
    "import geocoder\n",
    "import json # library to handle JSON files\n",
    "\n",
    "#!conda install -c conda-forge geopy --yes # uncomment this line if you haven't completed the Foursquare API lab\n",
    "from geopy.geocoders import Nominatim # convert an address into latitude and longitude values\n",
    "\n",
    "import requests # library to handle requests\n",
    "from pandas import json_normalize # tranform JSON file into a pandas dataframe\n",
    "\n",
    "# Matplotlib and associated plotting modules\n",
    "import matplotlib.cm as cm\n",
    "import matplotlib.colors as colors\n",
    "\n",
    "# import k-means from clustering stage\n",
    "from sklearn.cluster import KMeans\n",
    "\n",
    "#!conda install -c conda-forge folium=0.5.0 --yes # uncomment this line if you haven't completed the Foursquare API lab\n",
    "import folium # map rendering library\n",
    "\n",
    "print('Libraries imported.')"
   ]
  },
  {
   "cell_type": "code",
   "execution_count": 2,
   "id": "united-wesley",
   "metadata": {},
   "outputs": [],
   "source": [
    "url = 'https://simple.wikipedia.org/wiki/Category:Suburbs_of_Chicago,_Illinois'\n",
    "page = requests.get(url)\n",
    "soup = BeautifulSoup(page.content, 'html.parser')"
   ]
  },
  {
   "cell_type": "code",
   "execution_count": 3,
   "id": "casual-october",
   "metadata": {},
   "outputs": [
    {
     "data": {
      "text/plain": [
       "193"
      ]
     },
     "execution_count": 3,
     "metadata": {},
     "output_type": "execute_result"
    }
   ],
   "source": [
    "suburbs = []\n",
    "for tag in soup.find_all(\"li\"):\n",
    "    if(', Illinois' in tag.text):\n",
    "        text = tag.text\n",
    "        #print(text)\n",
    "        i = 0\n",
    "        while(not text[i].isalpha()):\n",
    "            i = i + 1        \n",
    "        suburbs.append(tag.text[i:tag.text.index(\", Illinois\")])\n",
    "len(suburbs)"
   ]
  },
  {
   "cell_type": "code",
   "execution_count": 4,
   "id": "classical-panic",
   "metadata": {},
   "outputs": [
    {
     "data": {
      "text/html": [
       "<div>\n",
       "<style scoped>\n",
       "    .dataframe tbody tr th:only-of-type {\n",
       "        vertical-align: middle;\n",
       "    }\n",
       "\n",
       "    .dataframe tbody tr th {\n",
       "        vertical-align: top;\n",
       "    }\n",
       "\n",
       "    .dataframe thead th {\n",
       "        text-align: right;\n",
       "    }\n",
       "</style>\n",
       "<table border=\"1\" class=\"dataframe\">\n",
       "  <thead>\n",
       "    <tr style=\"text-align: right;\">\n",
       "      <th></th>\n",
       "      <th>Suburbs</th>\n",
       "    </tr>\n",
       "  </thead>\n",
       "  <tbody>\n",
       "    <tr>\n",
       "      <th>0</th>\n",
       "      <td>Addison</td>\n",
       "    </tr>\n",
       "    <tr>\n",
       "      <th>1</th>\n",
       "      <td>Algonquin</td>\n",
       "    </tr>\n",
       "    <tr>\n",
       "      <th>2</th>\n",
       "      <td>Antioch</td>\n",
       "    </tr>\n",
       "    <tr>\n",
       "      <th>3</th>\n",
       "      <td>Arlington Heights</td>\n",
       "    </tr>\n",
       "    <tr>\n",
       "      <th>4</th>\n",
       "      <td>Aurora</td>\n",
       "    </tr>\n",
       "  </tbody>\n",
       "</table>\n",
       "</div>"
      ],
      "text/plain": [
       "             Suburbs\n",
       "0            Addison\n",
       "1          Algonquin\n",
       "2            Antioch\n",
       "3  Arlington Heights\n",
       "4             Aurora"
      ]
     },
     "execution_count": 4,
     "metadata": {},
     "output_type": "execute_result"
    }
   ],
   "source": [
    "# create a new DataFrame from the list\n",
    "il_sub = pd.DataFrame({\"Suburbs\": suburbs})\n",
    "il_sub.head()"
   ]
  },
  {
   "cell_type": "markdown",
   "id": "black-serial",
   "metadata": {},
   "source": [
    "### Retrieving Geographical Coordinates\n",
    "Geocoding, also known as address search, is the process of converting text for an address or place to a complete address with a location. For example, you can convert \"Addison Illinois\" to -87.660759 longitude and 41.947116 latitude."
   ]
  },
  {
   "cell_type": "code",
   "execution_count": 17,
   "id": "superior-integrity",
   "metadata": {},
   "outputs": [],
   "source": [
    "# code for getting the latitude and longitude\n",
    "def get_lati_long(suburb):\n",
    "    # initialize your variable to None\n",
    "    lat_lng_coords = None\n",
    "    # loop until you get the coordinates\n",
    "    while(lat_lng_coords is None):\n",
    "        g = geocoder.arcgis('{}, Illinois'.format(suburb))\n",
    "        lat_lng_coords = g.latlng\n",
    "    return lat_lng_coords"
   ]
  },
  {
   "cell_type": "code",
   "execution_count": 23,
   "id": "optional-earth",
   "metadata": {},
   "outputs": [
    {
     "name": "stdout",
     "output_type": "stream",
     "text": [
      "['Addison', 'Algonquin', 'Antioch', 'Arlington Heights', 'Aurora', 'Bannockburn', 'Barrington Hills', 'Barrington', 'Bartlett', 'Batavia', 'Beach Park', 'Bedford Park', 'Bellwood', 'Bensenville', 'Berkeley', 'Berwyn', 'Bloomingdale', 'Blue Island', 'Bolingbrook', 'Bridgeview', 'Broadview', 'Brookfield', 'Buffalo Grove', 'Bull Valley', 'Burbank', 'Burnham', 'Burr Ridge', 'Calumet City', 'Calumet Park', 'Campton Hills', 'Carol Stream', 'Carpentersville', 'Cary', 'Channahon', 'Chicago Heights', 'Chicago Ridge', 'Cicero', 'Clarendon Hills', 'Country Club Hills', 'Countryside', 'Crest Hill', 'Crestwood', 'Crete', 'Crystal Lake', 'Darien', 'Deer Park', 'Deerfield', 'Des Plaines', 'Dixmoor', 'Dolton', 'Downers Grove', 'East Dundee', 'East Hazel Crest', 'Elk Grove Village', 'Elmhurst', 'Elmwood Park', 'Evanston', 'Evergreen Park', 'Flossmoor', 'Ford Heights', 'Forest Park', 'Forest View', 'Fort Sheridan', 'Fox Lake', 'Frankfort', 'Franklin Park', 'Geneva', 'Glen Ellyn', 'Glencoe', 'Glendale Heights', 'Glenview', 'Glenwood', 'Golf', 'Gurnee', 'Hanover Park', 'Harvey', 'Harwood Heights', 'Hazel Crest', 'Hickory Hills', 'Highland Park', 'Highwood', 'Hillside', 'Hinsdale', 'Hodgkins', 'Hoffman Estates', 'Hometown', 'Homewood', 'Indian Head Park', 'Inverness', 'Itasca', 'Joliet', 'Justice', 'Kenilworth', 'La Grange Park', 'La Grange', 'Lake Bluff', 'Lake Forest', 'Lake Zurich', 'Lansing', 'Lemont', 'Libertyville', 'Lily Lake', 'Lincolnwood', 'Lisle', 'Lockport', 'Lombard', 'Lynwood', 'Lyons', 'Markham', 'Matteson', 'Maywood', 'McCook', 'McHenry', 'Medinah', 'Melrose Park', 'Merrionette Park', 'Midlothian', 'Minooka', 'Mokena', 'Morton Grove', 'Mount Prospect', 'Mundelein', 'Naperville', 'New Lenox', 'Niles', 'Norridge', 'North Chicago', 'North Riverside', 'Northbrook', 'Northfield', 'Northlake', 'Oak Brook', 'Oak Forest', 'Oak Lawn', 'Oak Park', 'Oakbrook Terrace', 'Olympia Fields', 'Orland Hills', 'Orland Park', 'Oswego', 'Palatine', 'Palos Heights', 'Palos Hills', 'Palos Park', 'Park Forest', 'Park Ridge', 'Phoenix', 'Plainfield', 'Posen', 'Prospect Heights', 'Richton Park', 'River Forest', 'River Grove', 'Riverdale', 'Riverside', 'Riverwoods', 'Robbins', 'Rolling Meadows', 'Romeoville', 'Roselle', 'Rosemont', 'Round Lake Beach', 'Sauk Village', 'Schaumburg', 'Schiller Park', 'Skokie', 'South Barrington', 'South Chicago Heights', 'South Holland', 'St. Charles', 'Steger', 'Stickney', 'Stone Park', 'Streamwood', 'Summit', 'Thornton', 'Tinley Park', 'University Park', 'Villa Park', 'Warrenville', 'Waukegan', 'Wayne', 'West Chicago', 'Westchester', 'Western Springs', 'Westmont', 'Wheaton', 'Wheeling', 'Willow Springs', 'Willowbrook, DuPage County', 'Wilmette', 'Winfield', 'Winnetka']\n"
     ]
    }
   ],
   "source": [
    "suburb_names = il_sub['Suburbs'].tolist() #changes all columns in list\n",
    "print(suburb_names)"
   ]
  },
  {
   "cell_type": "code",
   "execution_count": 19,
   "id": "affected-configuration",
   "metadata": {},
   "outputs": [
    {
     "name": "stderr",
     "output_type": "stream",
     "text": [
      "Status code Unknown from https://geocode.arcgis.com/arcgis/rest/services/World/GeocodeServer/find: ERROR - HTTPSConnectionPool(host='geocode.arcgis.com', port=443): Read timed out. (read timeout=5.0)\n",
      "Status code Unknown from https://geocode.arcgis.com/arcgis/rest/services/World/GeocodeServer/find: ERROR - HTTPSConnectionPool(host='geocode.arcgis.com', port=443): Read timed out. (read timeout=5.0)\n"
     ]
    }
   ],
   "source": [
    "lat_lang = [get_lati_long(suburb) for suburb in suburb_names]  #select each address and get latitute and longitude"
   ]
  },
  {
   "cell_type": "code",
   "execution_count": 20,
   "id": "thirty-leone",
   "metadata": {},
   "outputs": [],
   "source": [
    "df_coords = pd.DataFrame(lat_lang, columns=['Latitude', 'Longitude']) #create new_columns\n",
    "il_sub['Latitude'] = df_coords['Latitude']\n",
    "il_sub['Longitude'] = df_coords['Longitude']"
   ]
  },
  {
   "cell_type": "code",
   "execution_count": 21,
   "id": "sharp-promise",
   "metadata": {},
   "outputs": [
    {
     "data": {
      "text/html": [
       "<div>\n",
       "<style scoped>\n",
       "    .dataframe tbody tr th:only-of-type {\n",
       "        vertical-align: middle;\n",
       "    }\n",
       "\n",
       "    .dataframe tbody tr th {\n",
       "        vertical-align: top;\n",
       "    }\n",
       "\n",
       "    .dataframe thead th {\n",
       "        text-align: right;\n",
       "    }\n",
       "</style>\n",
       "<table border=\"1\" class=\"dataframe\">\n",
       "  <thead>\n",
       "    <tr style=\"text-align: right;\">\n",
       "      <th></th>\n",
       "      <th>Suburbs</th>\n",
       "      <th>Latitude</th>\n",
       "      <th>Longitude</th>\n",
       "    </tr>\n",
       "  </thead>\n",
       "  <tbody>\n",
       "    <tr>\n",
       "      <th>0</th>\n",
       "      <td>Addison</td>\n",
       "      <td>41.93407</td>\n",
       "      <td>-87.99350</td>\n",
       "    </tr>\n",
       "    <tr>\n",
       "      <th>1</th>\n",
       "      <td>Algonquin</td>\n",
       "      <td>42.16439</td>\n",
       "      <td>-88.32686</td>\n",
       "    </tr>\n",
       "    <tr>\n",
       "      <th>2</th>\n",
       "      <td>Antioch</td>\n",
       "      <td>42.47898</td>\n",
       "      <td>-88.09638</td>\n",
       "    </tr>\n",
       "    <tr>\n",
       "      <th>3</th>\n",
       "      <td>Arlington Heights</td>\n",
       "      <td>42.08729</td>\n",
       "      <td>-87.98044</td>\n",
       "    </tr>\n",
       "    <tr>\n",
       "      <th>4</th>\n",
       "      <td>Aurora</td>\n",
       "      <td>41.75710</td>\n",
       "      <td>-88.31613</td>\n",
       "    </tr>\n",
       "  </tbody>\n",
       "</table>\n",
       "</div>"
      ],
      "text/plain": [
       "             Suburbs  Latitude  Longitude\n",
       "0            Addison  41.93407  -87.99350\n",
       "1          Algonquin  42.16439  -88.32686\n",
       "2            Antioch  42.47898  -88.09638\n",
       "3  Arlington Heights  42.08729  -87.98044\n",
       "4             Aurora  41.75710  -88.31613"
      ]
     },
     "execution_count": 21,
     "metadata": {},
     "output_type": "execute_result"
    }
   ],
   "source": [
    "il_sub.head()"
   ]
  },
  {
   "cell_type": "code",
   "execution_count": 24,
   "id": "suited-drove",
   "metadata": {},
   "outputs": [
    {
     "name": "stdout",
     "output_type": "stream",
     "text": [
      "<class 'pandas.core.frame.DataFrame'>\n",
      "RangeIndex: 193 entries, 0 to 192\n",
      "Data columns (total 3 columns):\n",
      " #   Column     Non-Null Count  Dtype  \n",
      "---  ------     --------------  -----  \n",
      " 0   Suburbs    193 non-null    object \n",
      " 1   Latitude   193 non-null    float64\n",
      " 2   Longitude  193 non-null    float64\n",
      "dtypes: float64(2), object(1)\n",
      "memory usage: 4.6+ KB\n"
     ]
    }
   ],
   "source": [
    "il_sub.info()"
   ]
  },
  {
   "cell_type": "code",
   "execution_count": 22,
   "id": "municipal-walter",
   "metadata": {},
   "outputs": [],
   "source": [
    "il_sub.to_csv('dataset/illinois.csv',index=False)"
   ]
  },
  {
   "cell_type": "code",
   "execution_count": null,
   "id": "absent-peninsula",
   "metadata": {},
   "outputs": [],
   "source": []
  }
 ],
 "metadata": {
  "kernelspec": {
   "display_name": "Python 3",
   "language": "python",
   "name": "python3"
  },
  "language_info": {
   "codemirror_mode": {
    "name": "ipython",
    "version": 3
   },
   "file_extension": ".py",
   "mimetype": "text/x-python",
   "name": "python",
   "nbconvert_exporter": "python",
   "pygments_lexer": "ipython3",
   "version": "3.9.1"
  }
 },
 "nbformat": 4,
 "nbformat_minor": 5
}
